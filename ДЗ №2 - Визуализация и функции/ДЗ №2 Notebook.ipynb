{
 "cells": [
  {
   "cell_type": "markdown",
   "metadata": {},
   "source": [
    "Импорт"
   ]
  },
  {
   "cell_type": "code",
   "execution_count": 144,
   "metadata": {},
   "outputs": [],
   "source": [
    "import numpy as np\n",
    "import pandas as pd\n",
    "import seaborn as sb"
   ]
  },
  {
   "cell_type": "markdown",
   "metadata": {},
   "source": [
    "Считываем файлы:"
   ]
  },
  {
   "cell_type": "code",
   "execution_count": 145,
   "metadata": {},
   "outputs": [],
   "source": [
    "df_male = pd.read_csv('moscow_male.csv', sep=';', encoding='ansi', decimal=',')\n",
    "df_female = pd.read_csv('moscow_female.csv', sep=';', encoding='ansi', decimal=',')"
   ]
  },
  {
   "cell_type": "markdown",
   "metadata": {},
   "source": [
    "Проверяем:"
   ]
  },
  {
   "cell_type": "code",
   "execution_count": 146,
   "metadata": {},
   "outputs": [
    {
     "name": "stdout",
     "output_type": "stream",
     "text": [
      "  ID       Name NumberOfPersons global_id  Year   Month  Unnamed: 6\n",
      "0  1  Александр             253  37750243  2015  январь         NaN\n",
      "1  2     Михаил             247  37750244  2015  январь         NaN\n",
      "2  3       Иван             226  37750245  2015  январь         NaN\n",
      "3  4     Максим             208  37750246  2015  январь         NaN\n",
      "4  5      Артём             190  37750247  2015  январь         NaN\n",
      "\n",
      "  ID       Name NumberOfPersons global_id  Year   Month  Unnamed: 6\n",
      "0  1      Мария             252  37750254  2015  январь         NaN\n",
      "1  2  Анастасия             224  37750255  2015  январь         NaN\n",
      "2  3       Анна             190  37750256  2015  январь         NaN\n",
      "3  4    Варвара             190  37750257  2015  январь         NaN\n",
      "4  5   Виктория             186  37750258  2015  январь         NaN\n"
     ]
    }
   ],
   "source": [
    "print(df_male.head())\n",
    "print()\n",
    "print(df_female.head())\n"
   ]
  },
  {
   "cell_type": "markdown",
   "metadata": {},
   "source": [
    "Видим лишний (или запасной) столбец, выпиливаем его. При внимательном осмотре CSV-шника выявляется, что каждые 1000 записей дублируется строка заголовка. Выпиливаем эти строки. "
   ]
  },
  {
   "cell_type": "code",
   "execution_count": 147,
   "metadata": {},
   "outputs": [
    {
     "name": "stdout",
     "output_type": "stream",
     "text": [
      "(4504, 6)\n",
      "(4504, 6)\n",
      "(4500, 6)\n",
      "(4500, 6)\n"
     ]
    }
   ],
   "source": [
    "df_male = df_male.drop(\"Unnamed: 6\", axis=1)\n",
    "df_female = df_female.drop(\"Unnamed: 6\", axis=1)\n",
    "\n",
    "print(df_male.shape)\n",
    "print(df_female.shape)\n",
    "\n",
    "\n",
    "df_male = df_male[df_male[\"ID\"] != \"ID\"]\n",
    "df_female = df_female[df_female[\"ID\"] != \"ID\"]\n",
    "\n",
    "print(df_male.shape)\n",
    "print(df_female.shape)"
   ]
  },
  {
   "cell_type": "markdown",
   "metadata": {},
   "source": [
    "Проверяем:"
   ]
  },
  {
   "cell_type": "code",
   "execution_count": 148,
   "metadata": {},
   "outputs": [
    {
     "name": "stdout",
     "output_type": "stream",
     "text": [
      "  ID       Name NumberOfPersons global_id  Year   Month\n",
      "0  1  Александр             253  37750243  2015  январь\n",
      "1  2     Михаил             247  37750244  2015  январь\n",
      "2  3       Иван             226  37750245  2015  январь\n",
      "3  4     Максим             208  37750246  2015  январь\n",
      "4  5      Артём             190  37750247  2015  январь\n",
      "\n",
      "  ID       Name NumberOfPersons global_id  Year   Month\n",
      "0  1      Мария             252  37750254  2015  январь\n",
      "1  2  Анастасия             224  37750255  2015  январь\n",
      "2  3       Анна             190  37750256  2015  январь\n",
      "3  4    Варвара             190  37750257  2015  январь\n",
      "4  5   Виктория             186  37750258  2015  январь\n"
     ]
    }
   ],
   "source": [
    "print(df_male.head())\n",
    "print()\n",
    "print(df_female.head())"
   ]
  },
  {
   "cell_type": "markdown",
   "metadata": {},
   "source": [
    "## Задание №1\n",
    "Создать новую колонку \"Sex\" и заполнить ее значениями по умолчанию для каждого набора данных (moscow_female.csv и moscow_male.csv).\n",
    "### Решение:"
   ]
  },
  {
   "cell_type": "code",
   "execution_count": 149,
   "metadata": {},
   "outputs": [],
   "source": [
    "df_male[\"Sex\"] = \"Male\"\n",
    "df_female[\"Sex\"] = \"Female\""
   ]
  },
  {
   "cell_type": "markdown",
   "metadata": {},
   "source": [
    "## Задание №2\n",
    "Объединить оба набора данных в один датафрейм (например , merge по полю \"Year\").\n",
    "### Решение:"
   ]
  },
  {
   "cell_type": "code",
   "execution_count": 150,
   "metadata": {},
   "outputs": [
    {
     "name": "stdout",
     "output_type": "stream",
     "text": [
      "(4500, 7)\n",
      "(4500, 7)\n",
      "          ID   Name NumberOfPersons global_id  Year   Month     Sex\n",
      "count   9000   9000            9000      9000  9000    9000    9000\n",
      "unique  4500    374             312      9000     4      12       2\n",
      "top        1  Мария               8  37750254  2015  январь  Female\n",
      "freq       2     45             515         1  2400     800    4500\n",
      "        ID       Name NumberOfPersons  global_id  Year     Month     Sex\n",
      "0        1      Мария             252   37750254  2015    январь  Female\n",
      "1        2  Анастасия             224   37750255  2015    январь  Female\n",
      "2        3       Анна             190   37750256  2015    январь  Female\n",
      "3        4    Варвара             190   37750257  2015    январь  Female\n",
      "4        5   Виктория             186   37750258  2015    январь  Female\n",
      "...    ...        ...             ...        ...   ...       ...     ...\n",
      "8995  5396  Святослав               7  894568752  2018  сентябрь    Male\n",
      "8996  5397     Даниль               7  894568785  2018  сентябрь    Male\n",
      "8997  5398      Тихон               7  894568808  2018  сентябрь    Male\n",
      "8998  5399      Имран               7  894568838  2018  сентябрь    Male\n",
      "8999  5400      Назар               7  894568866  2018  сентябрь    Male\n",
      "\n",
      "[9000 rows x 7 columns]\n"
     ]
    }
   ],
   "source": [
    "print(df_male.shape)\n",
    "print(df_female.shape)\n",
    "\n",
    "df = pd.concat([df_female, df_male], ignore_index=True)\n",
    "\n",
    "\n",
    "print(df.describe())\n",
    "print(df)"
   ]
  },
  {
   "cell_type": "markdown",
   "metadata": {},
   "source": [
    "## Задание №3\n",
    "Выделить последнюю букву имени в именах мальчика или девочки.\n",
    "### Решение:"
   ]
  },
  {
   "cell_type": "code",
   "execution_count": 151,
   "metadata": {},
   "outputs": [
    {
     "name": "stdout",
     "output_type": "stream",
     "text": [
      "  ID       Name NumberOfPersons global_id  Year   Month     Sex Last_char\n",
      "0  1      Мария             252  37750254  2015  январь  Female         я\n",
      "1  2  Анастасия             224  37750255  2015  январь  Female         я\n",
      "2  3       Анна             190  37750256  2015  январь  Female         а\n",
      "3  4    Варвара             190  37750257  2015  январь  Female         а\n",
      "4  5   Виктория             186  37750258  2015  январь  Female         я\n"
     ]
    }
   ],
   "source": [
    "df[\"Last_char\"] = df[\"Name\"].str[-1]\n",
    "print(df.head())"
   ]
  },
  {
   "cell_type": "markdown",
   "metadata": {},
   "source": [
    "## Задание №4\n",
    "Визуализировать зависимость последней буквы в имени от пола.\n",
    "\n",
    "### Решение:"
   ]
  },
  {
   "cell_type": "code",
   "execution_count": 152,
   "metadata": {},
   "outputs": [
    {
     "name": "stdout",
     "output_type": "stream",
     "text": [
      "Last_char  Sex   \n",
      "а          Female    2988\n",
      "           Male       166\n",
      "б          Female       1\n",
      "           Male        45\n",
      "в          Male       352\n",
      "г          Male        45\n",
      "д          Male       256\n",
      "е          Female       5\n",
      "и          Female       7\n",
      "           Male        45\n",
      "й          Male       860\n",
      "к          Male        57\n",
      "л          Male       233\n",
      "м          Female      49\n",
      "           Male       336\n",
      "н          Female      37\n",
      "           Male       882\n",
      "п          Male        46\n",
      "р          Male       718\n",
      "с          Male       114\n",
      "т          Male        95\n",
      "у          Female       4\n",
      "ф          Male        21\n",
      "ь          Female      92\n",
      "           Male       182\n",
      "я          Female    1317\n",
      "           Male        47\n",
      "Name: ID, dtype: int64\n"
     ]
    },
    {
     "data": {
      "text/plain": [
       "<AxesSubplot:xlabel='Last_char', ylabel='count'>"
      ]
     },
     "execution_count": 152,
     "metadata": {},
     "output_type": "execute_result"
    },
    {
     "data": {
      "image/png": "[encoded data removed]",
      "text/plain": [
       "<Figure size 1152x864 with 1 Axes>"
      ]
     },
     "metadata": {},
     "output_type": "display_data"
    }
   ],
   "source": [
    "dfs = df.sort_values(\"Last_char\")\n",
    "print(dfs.groupby([\"Last_char\", \"Sex\"])[\"ID\"].count())\n",
    "\n",
    "\n",
    "sb.set(rc={\"figure.figsize\":(16, 12)})\n",
    "sb.countplot(data = dfs, x = \"Last_char\", hue = \"Sex\")"
   ]
  },
  {
   "cell_type": "markdown",
   "metadata": {},
   "source": [
    "## Задание №5\n",
    "Написать функцию, которая на основе любого введеного имени, подбирает к нему обращение (\"Г-жа\" и \"Г-дин\").\n",
    "### Решение:"
   ]
  },
  {
   "cell_type": "code",
   "execution_count": 153,
   "metadata": {},
   "outputs": [],
   "source": [
    "from random import randint"
   ]
  },
  {
   "cell_type": "code",
   "execution_count": 162,
   "metadata": {},
   "outputs": [
    {
     "name": "stdout",
     "output_type": "stream",
     "text": [
      "Определено по последней букве\n"
     ]
    },
    {
     "data": {
      "text/plain": [
       "'Male'"
      ]
     },
     "execution_count": 162,
     "metadata": {},
     "output_type": "execute_result"
    }
   ],
   "source": [
    "# для начала можно искать имя в датасете, чтобы быть точно увереным в нем\n",
    "# если не нашли, то уже смотреть на последнюю букву\n",
    "# ну а потом можно и рандомно выдавать\n",
    "\n",
    "grouped = dfs.groupby([\"Last_char\", \"Sex\"])[\"ID\"].count()\n",
    "\n",
    "\n",
    "def get_appeal(name):\n",
    "    sex_from_df = df[df[\"Name\"] == name][\"Sex\"].unique()\n",
    "    if (sex_from_df.size != 0):\n",
    "        print(\"Имя найдено в DataFrame\")\n",
    "        return sex_from_df[0]\n",
    "    \n",
    "    lc = name[-1]\n",
    "    male_with_lc = grouped.get((lc, \"Male\"), default=0)\n",
    "    female_with_lc = grouped.get((lc, \"Female\"), default=0)\n",
    "\n",
    "    if (male_with_lc > female_with_lc):\n",
    "        print(\"Определено по последней букве\")\n",
    "        return \"Male\"\n",
    "    if (female_with_lc > male_with_lc):\n",
    "        print(\"Определено по последней букве\")\n",
    "        return \"Female\"\n",
    "    \n",
    "    print(\"Черт его знает, пусть будет . . .\")\n",
    "    return \"Male\" if randint(0, 1) == 0 else \"Female\"\n",
    "\n",
    "\n",
    "\n",
    "get_appeal(\"Улукбек\")"
   ]
  }
 ],
 "metadata": {
  "interpreter": {
   "hash": "aa295b9ef15947fab0902f3d252970794a4eed9dac9372ca4a23071ba7ebc36f"
  },
  "kernelspec": {
   "display_name": "Python 3.9.6 64-bit",
   "language": "python",
   "name": "python3"
  },
  "language_info": {
   "codemirror_mode": {
    "name": "ipython",
    "version": 3
   },
   "file_extension": ".py",
   "mimetype": "text/x-python",
   "name": "python",
   "nbconvert_exporter": "python",
   "pygments_lexer": "ipython3",
   "version": "3.9.6"
  },
  "orig_nbformat": 4
 },
 "nbformat": 4,
 "nbformat_minor": 2
}
